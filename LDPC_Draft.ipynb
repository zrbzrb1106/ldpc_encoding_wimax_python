{
 "cells": [
  {
   "cell_type": "markdown",
   "metadata": {},
   "source": [
    "\n",
    "## Simple Draft for the implementation of LDPC Encoder based on Wimax Standard\n",
    "\n",
    "This draft is for the developer who wants to quickly understand the structure of LDPC Encoder based on Wimax protocol and also a brief instruction for the implementation of LDPC hardware encoder in verilog. If not specificly assigned, the LDPC Encoder here only means under the standard Wimax.The requirement of high throughput and low latency should be fullfilled. \n",
    "\n",
    "The consideration here for hardward encoder is based on pure verilog which means that the encoder doesn't use any library for FPGA or some other platforms. The integration to specific hardware platform is possible and should be considered by the developer. The draft is based on personal work as a research helper."
   ]
  },
  {
   "cell_type": "markdown",
   "metadata": {},
   "source": [
    "### Theory of LDPC Encoder\n",
    "\n",
    "LDPC code is the abbreviation of low-density parity-check code which is a linear error correcting code, a method of transmitting a message over a noisy transmission channel. The parity check matrix of LDPC is sparse and means \"low density\". The encoding is based on this low density parity check matrix( using H to represent LDPC parity check matrix). \n",
    "\n",
    "LDPC code is systematic code, which means that the information contains in the encoded codeword. The codeword is represented by \n",
    "$v = {u, p1, p2}$, in which $u$ is the original data, $p1$ and $p2$ represent the parity check bits. The codeword should satisfy the equation $$v \\cdot H^T = 0$$\n",
    "The encoding procedure is actually to calculate $p1$ and $p2$, and then conbine $p1$ and $p2$ with $u$ to generate the codeword $v$."
   ]
  },
  {
   "cell_type": "markdown",
   "metadata": {},
   "source": [
    "### LDPC Base Matrix\n",
    "There are six base matrixs for six different code rate, which are 1/2, 2/3(A), 2/3(B), 3/4(A), 3/4(B) and 5/6. For simple explain, the code rate 1/2(Class A) will be used here.The base matrix of 1/2 code rate is shown as below:"
   ]
  },
  {
   "cell_type": "code",
   "execution_count": 1,
   "metadata": {
    "collapsed": true
   },
   "outputs": [],
   "source": [
    "'''\n",
    "\n",
    "Python Program for LDPC Encoder \n",
    "based on Wimax 802.16e Standard\n",
    "\n",
    "\n",
    "'''\n",
    "import numpy as np\n",
    "\n",
    "baseMatrix = np.array([\n",
    "[-1,94,73,-1,-1,-1,-1,-1,55,83,-1,-1, 7, 0,-1,-1,-1,-1,-1,-1,-1,-1,-1,-1],\n",
    "[-1,27,-1,-1,-1,22,79, 9,-1,-1,-1,12,-1, 0, 0,-1,-1,-1,-1,-1,-1,-1,-1,-1],\n",
    "[-1,-1,-1,24,22,81,-1,33,-1,-1,-1, 0,-1,-1, 0, 0,-1,-1,-1,-1,-1,-1,-1,-1],\n",
    "[61,-1,47,-1,-1,-1,-1,-1,65,25,-1,-1,-1,-1,-1, 0, 0,-1,-1,-1,-1,-1,-1,-1],\n",
    "[-1,-1,39,-1,-1,-1,84,-1,-1,41,72,-1,-1,-1,-1,-1, 0, 0,-1,-1,-1,-1,-1,-1],\n",
    "[-1,-1,-1,-1,46,40,-1,82,-1,-1,-1,79, 0,-1,-1,-1,-1, 0, 0,-1,-1,-1,-1,-1],\n",
    "[-1,-1,95,53,-1,-1,-1,-1,-1,14,18,-1,-1,-1,-1,-1,-1,-1, 0, 0,-1,-1,-1,-1],\n",
    "[-1,11,73,-1,-1,-1, 2,-1,-1,47,-1,-1,-1,-1,-1,-1,-1,-1,-1, 0, 0,-1,-1,-1],\n",
    "[12,-1,-1,-1,83,24,-1,43,-1,-1,-1,51,-1,-1,-1,-1,-1,-1,-1,-1, 0, 0,-1,-1],\n",
    "[-1,-1,-1,-1,-1,94,-1,59,-1,-1,70,72,-1,-1,-1,-1,-1,-1,-1,-1,-1, 0, 0,-1],\n",
    "[-1,-1, 7,65,-1,-1,-1,-1,39,49,-1,-1,-1,-1,-1,-1,-1,-1,-1,-1,-1,-1, 0, 0],\n",
    "[43,-1,-1,-1,-1,66,-1,41,-1,-1,-1,26, 7,-1,-1,-1,-1,-1,-1,-1,-1,-1,-1, 0]])\n",
    "\n",
    "rows = baseMatrix.shape[0]\n",
    "cols = baseMatrix.shape[1]\n",
    "# expansion factor\n",
    "z = 24"
   ]
  },
  {
   "cell_type": "markdown",
   "metadata": {},
   "source": [
    "\n",
    "Each element in the matrix represent a identity matrix or a shifted identity matrix with size $z * z$, $z$ is expansion factor. The value of z and corresponding code length and code rate is showed in below.$n$ is code length, $z$ is factor and $R$ represents code rate.\n",
    "![](ldpc_table.png)  \n",
    "![](ldpc_table2.png)  \n",
    "For the element value, $e$ represent a element in the matrix.  \n",
    "\n",
    "if(e < 0): e is all-zero matrix.  \n",
    "else if(e == 0): e is identity matrix  \n",
    "else: e is a shifted identity matrix with shift param $d$   \n",
    "\n",
    "The calculation of shifted identity matrix is easy.As in below, an identity matrix is like:"
   ]
  },
  {
   "cell_type": "code",
   "execution_count": 2,
   "metadata": {
    "collapsed": true
   },
   "outputs": [],
   "source": [
    "identity_matrix = np.eye(5)\n",
    "d = 3\n",
    "tmp = identity_matrix[0:d]\n",
    "shifted_identity_matrix = np.vstack((identity_matrix[d:5], tmp))"
   ]
  },
  {
   "cell_type": "code",
   "execution_count": 3,
   "metadata": {},
   "outputs": [
    {
     "data": {
      "text/plain": [
       "array([[ 1.,  0.,  0.,  0.,  0.],\n",
       "       [ 0.,  1.,  0.,  0.,  0.],\n",
       "       [ 0.,  0.,  1.,  0.,  0.],\n",
       "       [ 0.,  0.,  0.,  1.,  0.],\n",
       "       [ 0.,  0.,  0.,  0.,  1.]])"
      ]
     },
     "execution_count": 3,
     "metadata": {},
     "output_type": "execute_result"
    }
   ],
   "source": [
    "identity_matrix"
   ]
  },
  {
   "cell_type": "markdown",
   "metadata": {},
   "source": [
    "If now the shift param $d$ is 3, then the new matrix will look like:"
   ]
  },
  {
   "cell_type": "code",
   "execution_count": 4,
   "metadata": {},
   "outputs": [
    {
     "data": {
      "text/plain": [
       "array([[ 0.,  0.,  0.,  1.,  0.],\n",
       "       [ 0.,  0.,  0.,  0.,  1.],\n",
       "       [ 1.,  0.,  0.,  0.,  0.],\n",
       "       [ 0.,  1.,  0.,  0.,  0.],\n",
       "       [ 0.,  0.,  1.,  0.,  0.]])"
      ]
     },
     "execution_count": 4,
     "metadata": {},
     "output_type": "execute_result"
    }
   ],
   "source": [
    "shifted_identity_matrix"
   ]
  },
  {
   "cell_type": "markdown",
   "metadata": {},
   "source": [
    "The values in the base matrix actually means some kind of shifts like this, but the value $d$ needs to be pre-calculated from the base matrix according to different code rate. According to the Wimax Standard in 2012, the shift parameter $d$ is should be calculated for different code rate.  \n",
    "For rate 2/3 A code, \n",
    "$$\n",
    "d = \\left\\{\\begin{matrix}\n",
    "d  ,      &  &  d\\leq 0  &  & \\\\ \n",
    " mod(d, z)  &  & d> 0  &  &  &  & \n",
    "\\end{matrix}\\right.\n",
    "$$"
   ]
  },
  {
   "cell_type": "markdown",
   "metadata": {
    "collapsed": true
   },
   "source": [
    "For the other code rate,\n",
    "$$\n",
    "d = \\left\\{\\begin{matrix}\n",
    " d  ,      &  &  d\\leq 0  &  & \\\\ \n",
    " \\left \\lfloor \\frac{d\\cdot z}{z_{0}} \\right \\rfloor  &  & d> 0  &  &  &  & \n",
    "\\end{matrix}\\right.\n",
    "$$\n",
    "Here $z_{0}$ equals 96, $z$ corresponds to different requirements for code length."
   ]
  },
  {
   "cell_type": "markdown",
   "metadata": {},
   "source": [
    "### LDPC Encoding Algorithm\n",
    "\n",
    "The encoding algorithm here used is called RU Algorithm, which is described in this article \"Efficient encoding of low-density parity-check codes\" by T.J. Richardson and R.L. Urbanke. The Algorithm is easy enough so it's alse called \"direct encoding\". The algorithm is based on Gaussian Elimination. The detailed explanation of this will not be discussed here, which could be found totally in the paper. \n",
    "The algorithm works in several steps and then it calculates $p_{1}$ and $p_{2}$. For the calculation, the base matrix should be divided into six submatrixs, namely A, B, C, D, T, E.\n",
    "![](submat_ldpc.png)\n",
    "\n",
    "\"0\" in the top-right corner represents all-zero matrix. This form of matrix is called lower trianglar form, which is efficient for Gaussian Elimination. The submatrixs are showed in below. Here $q$ equals 24, $p$ equals 12, $g$ equals 1.\n"
   ]
  },
  {
   "cell_type": "code",
   "execution_count": 5,
   "metadata": {
    "collapsed": true
   },
   "outputs": [],
   "source": [
    "A_Base = np.zeros((11,12),dtype=int)\n",
    "B_Base = np.zeros((11,1),dtype=int)\n",
    "T_Base = np.zeros((11,11),dtype=int)\n",
    "for i in range(rows-1):\n",
    "    A_Base[i] = baseMatrix[i][0:rows]\n",
    "    B_Base[i] = baseMatrix[i][rows:rows+1]\n",
    "    T_Base[i] = baseMatrix[i][rows+1:cols]\n",
    "    \n",
    "C_Base = baseMatrix[rows-1][0:rows].reshape(1,rows)\n",
    "D_Base = baseMatrix[rows-1][rows:rows+1].reshape(1,1)\n",
    "E_Base = baseMatrix[rows-1][rows+1:cols].reshape(1,rows-1)"
   ]
  },
  {
   "cell_type": "code",
   "execution_count": 6,
   "metadata": {},
   "outputs": [
    {
     "data": {
      "text/plain": [
       "array([[-1, 94, 73, -1, -1, -1, -1, -1, 55, 83, -1, -1],\n",
       "       [-1, 27, -1, -1, -1, 22, 79,  9, -1, -1, -1, 12],\n",
       "       [-1, -1, -1, 24, 22, 81, -1, 33, -1, -1, -1,  0],\n",
       "       [61, -1, 47, -1, -1, -1, -1, -1, 65, 25, -1, -1],\n",
       "       [-1, -1, 39, -1, -1, -1, 84, -1, -1, 41, 72, -1],\n",
       "       [-1, -1, -1, -1, 46, 40, -1, 82, -1, -1, -1, 79],\n",
       "       [-1, -1, 95, 53, -1, -1, -1, -1, -1, 14, 18, -1],\n",
       "       [-1, 11, 73, -1, -1, -1,  2, -1, -1, 47, -1, -1],\n",
       "       [12, -1, -1, -1, 83, 24, -1, 43, -1, -1, -1, 51],\n",
       "       [-1, -1, -1, -1, -1, 94, -1, 59, -1, -1, 70, 72],\n",
       "       [-1, -1,  7, 65, -1, -1, -1, -1, 39, 49, -1, -1]])"
      ]
     },
     "execution_count": 6,
     "metadata": {},
     "output_type": "execute_result"
    }
   ],
   "source": [
    "A_Base"
   ]
  },
  {
   "cell_type": "code",
   "execution_count": 7,
   "metadata": {},
   "outputs": [
    {
     "data": {
      "text/plain": [
       "array([[ 7],\n",
       "       [-1],\n",
       "       [-1],\n",
       "       [-1],\n",
       "       [-1],\n",
       "       [ 0],\n",
       "       [-1],\n",
       "       [-1],\n",
       "       [-1],\n",
       "       [-1],\n",
       "       [-1]])"
      ]
     },
     "execution_count": 7,
     "metadata": {},
     "output_type": "execute_result"
    }
   ],
   "source": [
    "B_Base"
   ]
  },
  {
   "cell_type": "code",
   "execution_count": 8,
   "metadata": {},
   "outputs": [
    {
     "data": {
      "text/plain": [
       "array([[43, -1, -1, -1, -1, 66, -1, 41, -1, -1, -1, 26]])"
      ]
     },
     "execution_count": 8,
     "metadata": {},
     "output_type": "execute_result"
    }
   ],
   "source": [
    "C_Base"
   ]
  },
  {
   "cell_type": "code",
   "execution_count": 9,
   "metadata": {},
   "outputs": [
    {
     "data": {
      "text/plain": [
       "array([[7]])"
      ]
     },
     "execution_count": 9,
     "metadata": {},
     "output_type": "execute_result"
    }
   ],
   "source": [
    "D_Base"
   ]
  },
  {
   "cell_type": "code",
   "execution_count": 10,
   "metadata": {},
   "outputs": [
    {
     "data": {
      "text/plain": [
       "array([[-1, -1, -1, -1, -1, -1, -1, -1, -1, -1,  0]])"
      ]
     },
     "execution_count": 10,
     "metadata": {},
     "output_type": "execute_result"
    }
   ],
   "source": [
    "E_Base"
   ]
  },
  {
   "cell_type": "code",
   "execution_count": 11,
   "metadata": {},
   "outputs": [
    {
     "data": {
      "text/plain": [
       "array([[ 0, -1, -1, -1, -1, -1, -1, -1, -1, -1, -1],\n",
       "       [ 0,  0, -1, -1, -1, -1, -1, -1, -1, -1, -1],\n",
       "       [-1,  0,  0, -1, -1, -1, -1, -1, -1, -1, -1],\n",
       "       [-1, -1,  0,  0, -1, -1, -1, -1, -1, -1, -1],\n",
       "       [-1, -1, -1,  0,  0, -1, -1, -1, -1, -1, -1],\n",
       "       [-1, -1, -1, -1,  0,  0, -1, -1, -1, -1, -1],\n",
       "       [-1, -1, -1, -1, -1,  0,  0, -1, -1, -1, -1],\n",
       "       [-1, -1, -1, -1, -1, -1,  0,  0, -1, -1, -1],\n",
       "       [-1, -1, -1, -1, -1, -1, -1,  0,  0, -1, -1],\n",
       "       [-1, -1, -1, -1, -1, -1, -1, -1,  0,  0, -1],\n",
       "       [-1, -1, -1, -1, -1, -1, -1, -1, -1,  0,  0]])"
      ]
     },
     "execution_count": 11,
     "metadata": {},
     "output_type": "execute_result"
    }
   ],
   "source": [
    "T_Base"
   ]
  },
  {
   "cell_type": "code",
   "execution_count": 12,
   "metadata": {
    "collapsed": true
   },
   "outputs": [],
   "source": [
    "# Helper function for calculating whole matrix, call gen_whole_mat(matrix to be converted, expansion factor)\n",
    "def gen_sub_mat(val, z):\n",
    "    if(val == -1):\n",
    "        return np.zeros((z,z), dtype=int)\n",
    "    else:\n",
    "        sub_mat = np.eye(z,dtype=int)\n",
    "        rest = val % z\n",
    "        \n",
    "        tmp = sub_mat[0:rest]\n",
    "        return np.vstack((sub_mat[rest:z], tmp))\n",
    "\n",
    "def gen_whole_mat(Mat_Base, z):\n",
    "    rows, cols = Mat_Base.shape\n",
    "    \n",
    "    for i in range(0, rows):\n",
    "        for j in range(0,cols):\n",
    "            if j == 0:\n",
    "                tmp = gen_sub_mat(Mat_Base[i][j], z)\n",
    "            else:\n",
    "                tmp = np.hstack((tmp, gen_sub_mat(Mat_Base[i][j], z)))\n",
    "        if i == 0:\n",
    "            temp = tmp\n",
    "        else:\n",
    "            temp = np.vstack((temp, tmp))\n",
    "    return temp"
   ]
  },
  {
   "cell_type": "markdown",
   "metadata": {},
   "source": [
    "\n",
    "The submatrixs could be converted easily into whole matrix, which means the matrix of 0 and 1. The dimension is large. When $z$ equals 24, the code lenth is 576 and the dimension of submatrix A is 264 * 288. In order to do the algorithm, all base matrixs A, B, C, D, E, T should be firstly converted to whole matrixs. In below, A, B, C, D, E, T represent the whole matrix. The algorithm works in seven steps:  \n",
    "1. $f_{1} = A \\cdot S^{T}$  \n",
    "2. $f_{2} = C \\cdot S^{T}$  \n",
    "3. $f_{3} = E \\cdot T^{-1} \\cdot f_{1}$  \n",
    "4. $p_{1} = f_{3} + f_{2}$  \n",
    "5. $f_{4} = B \\cdot p_{1}^{T}$  \n",
    "6. $f_{5} = f_{1} + f_{4}$  \n",
    "7. $p_{2} = T^{-1} \\cdot f_{5}$  \n",
    "\n",
    "After $p_{1}$ and $p_{2}$ are calculated, the codeword is {$u, p_{1}^{T}, p_{2}^{T}$}"
   ]
  },
  {
   "cell_type": "markdown",
   "metadata": {},
   "source": [
    "The encoder implementation in Python is showed in below:"
   ]
  },
  {
   "cell_type": "code",
   "execution_count": 13,
   "metadata": {
    "collapsed": true
   },
   "outputs": [],
   "source": [
    "# Whole Matrix of A, B, C, D, E, T\n",
    "A_Whole = gen_whole_mat(A_Base, 24)\n",
    "B_Whole = gen_whole_mat(B_Base, 24)\n",
    "C_Whole = gen_whole_mat(C_Base, 24)\n",
    "D_Whole = gen_whole_mat(D_Base, 24)\n",
    "E_Whole = gen_whole_mat(E_Base, 24)\n",
    "T_Whole = gen_whole_mat(T_Base, 24)\n",
    "\n",
    "# T inverse and E*(T inverse)\n",
    "TT_Whole = np.mat(T_Whole, dtype=int).I.astype(int)\n",
    "ETT_Whole = np.dot(E_Whole, TT_Whole)\n",
    "\n",
    "# Encoding\n",
    "len = 12 * z\n",
    "\n",
    "data_placeholder = np.zeros(len,dtype=int).reshape(1,len)\n",
    "\n",
    "for i in range(0,len):\n",
    "    data_placeholder[0][i] = np.random.randint(0,2)\n",
    "\n",
    "data = np.mat(data_placeholder)\n",
    "# Algorithm steps\n",
    "f1 = np.dot(A_Whole, data.T) % 2\n",
    "f2 = np.dot(C_Whole, data.T) % 2\n",
    "f3 = np.dot(ETT_Whole, f1) % 2\n",
    "p1 = f3 + f2\n",
    "\n",
    "f4 = np.dot(B_Whole, p1) % 2\n",
    "f5 = f1 + f4\n",
    "p2 = np.dot(TT_Whole, f5) % 2\n",
    "# Codeword\n",
    "codeword = np.hstack((data, p1.T, p2.T))"
   ]
  },
  {
   "cell_type": "markdown",
   "metadata": {},
   "source": [
    "### Hardward Implementation of LDPC Encoder\n",
    "The hardware implementation structure is designed as below.\n",
    "![](hardldpc.png)"
   ]
  },
  {
   "cell_type": "markdown",
   "metadata": {},
   "source": [
    "After combining $u$, $p_{1}$, $p_{2}$, the codeword is generated as {$u, p_{1}, p_{2}$}"
   ]
  },
  {
   "cell_type": "markdown",
   "metadata": {},
   "source": [
    "### Consideration of Parallelization"
   ]
  },
  {
   "cell_type": "markdown",
   "metadata": {},
   "source": [
    "In order to fullfill the requirements of high throughput and low latency, the structure need to be parallelized. The most time consuming part is multiply, so the consideration here is to parallelize the multiply of matrix. Consider about the sparsity of matrix, the multiply could be done very quickly.\n",
    "\n",
    "As an easy example, if we want to calculate $M \\cdot N$, in which"
   ]
  },
  {
   "cell_type": "code",
   "execution_count": 14,
   "metadata": {
    "collapsed": true
   },
   "outputs": [],
   "source": [
    "M = np.array([[1, 0, 0, 1, 0],\n",
    "              [1, 0, 0, 0, 1],\n",
    "              [0, 0, 0, 1, 1],\n",
    "              [0, 1, 0, 0, 0],\n",
    "              [0, 0, 1, 1, 0]])"
   ]
  },
  {
   "cell_type": "code",
   "execution_count": 15,
   "metadata": {},
   "outputs": [
    {
     "data": {
      "text/plain": [
       "array([[1, 0, 0, 1, 0],\n",
       "       [1, 0, 0, 0, 1],\n",
       "       [0, 0, 0, 1, 1],\n",
       "       [0, 1, 0, 0, 0],\n",
       "       [0, 0, 1, 1, 0]])"
      ]
     },
     "execution_count": 15,
     "metadata": {},
     "output_type": "execute_result"
    }
   ],
   "source": [
    "M"
   ]
  },
  {
   "cell_type": "code",
   "execution_count": 16,
   "metadata": {
    "collapsed": true
   },
   "outputs": [],
   "source": [
    "N = np.array([[1],[0],[0],[1],[0]])"
   ]
  },
  {
   "cell_type": "code",
   "execution_count": 17,
   "metadata": {},
   "outputs": [
    {
     "data": {
      "text/plain": [
       "array([[1],\n",
       "       [0],\n",
       "       [0],\n",
       "       [1],\n",
       "       [0]])"
      ]
     },
     "execution_count": 17,
     "metadata": {},
     "output_type": "execute_result"
    }
   ],
   "source": [
    "N"
   ]
  },
  {
   "cell_type": "markdown",
   "metadata": {},
   "source": [
    "The result is:"
   ]
  },
  {
   "cell_type": "code",
   "execution_count": 18,
   "metadata": {
    "collapsed": true
   },
   "outputs": [],
   "source": [
    "result = M.dot(N) % 2"
   ]
  },
  {
   "cell_type": "code",
   "execution_count": 19,
   "metadata": {},
   "outputs": [
    {
     "data": {
      "text/plain": [
       "array([[0],\n",
       "       [1],\n",
       "       [1],\n",
       "       [0],\n",
       "       [1]], dtype=int32)"
      ]
     },
     "execution_count": 19,
     "metadata": {},
     "output_type": "execute_result"
    }
   ],
   "source": [
    "result"
   ]
  },
  {
   "cell_type": "markdown",
   "metadata": {},
   "source": [
    "\n",
    "The first row of the result $\\ result_{0} = N[0]\\ xor\\  N[3] == 0$, which is the xor of non-zero index in the first row of matrix $M$  \n",
    "Similarly, the second row $\\ result_{1} = N[0]\\ xor\\ N[4] == 1$  \n",
    "Now if we want to calculate $A \\cdot s^{T}$ in the fisrt step of the algorithm, the most efficient way is to find the non-zero position of the first line in matrix $A$, and then xor them. In the base matrix $A$, the non-zero elements are 94, 73, 55, 83. When the expansion factor $z$ equals to 24, the non-zero position could be calculated which equals to 47, 66, 205, 236 respectively. So the first line of multiplication of $A \\cdot s^{T}$ equals to $$ result_{0} = s[47]\\ xor\\ s[66]\\ xor\\ s[205]\\ xor\\ s[236]$$\n",
    "The calculation of every line in matrix $A$ is independent, which means that the calculation could be done parallelly. All multiplications could be done in the same way. For this method, the position of non-zero position in each submatrix needed to be pre-calculated. This is simple by using matlab or python."
   ]
  },
  {
   "attachments": {},
   "cell_type": "markdown",
   "metadata": {
    "collapsed": true
   },
   "source": [
    "In order to improve the throughput, some optimization should be considered and the structure should also be pipelined as followed.\n",
    "![](pipe.png)"
   ]
  },
  {
   "cell_type": "markdown",
   "metadata": {},
   "source": [
    "The blue path is the critical path of the circuit. In order to improve the throughput, two registers need to be placed. If the algorithm is fully parallelized, the register is mainly for storing the temp data and wait until the calculation from the critical path is finished. After $p1$ and $p2$ are calculated, the codeword is {$u, p1, p2$}."
   ]
  },
  {
   "cell_type": "code",
   "execution_count": null,
   "metadata": {
    "collapsed": true
   },
   "outputs": [],
   "source": []
  }
 ],
 "metadata": {
  "kernelspec": {
   "display_name": "Python 3",
   "language": "python",
   "name": "python3"
  },
  "language_info": {
   "codemirror_mode": {
    "name": "ipython",
    "version": 3
   },
   "file_extension": ".py",
   "mimetype": "text/x-python",
   "name": "python",
   "nbconvert_exporter": "python",
   "pygments_lexer": "ipython3",
   "version": "3.5.3"
  }
 },
 "nbformat": 4,
 "nbformat_minor": 2
}
